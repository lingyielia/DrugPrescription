{
 "cells": [
  {
   "cell_type": "code",
   "execution_count": 64,
   "metadata": {
    "ExecuteTime": {
     "end_time": "2018-07-11T20:47:46.075202Z",
     "start_time": "2018-07-11T20:47:45.759385Z"
    }
   },
   "outputs": [],
   "source": [
    "drug_dict = {}\n",
    "count = 0\n",
    "with open(\"de_cc_data.txt\", \"r\") as infile:\n",
    "    for line in infile:\n",
    "        count += 1\n",
    "        if count > 80000:\n",
    "            break\n",
    "        if not line.split(\",\")[0].isdigit():\n",
    "            continue\n",
    "        id_pres = line.split(\",\")[0]\n",
    "        name_pres = \" \".join(line.split(\",\")[1:3][::-1])\n",
    "        name_drug = line.split(\",\")[3]\n",
    "        cost_drug = line.split(\",\")[-1].rstrip()\n",
    "        \n",
    "        if name_drug not in drug_dict:\n",
    "            drug_dict[name_drug] = [(id_pres, cost_drug)]\n",
    "        else:\n",
    "            drug_dict[name_drug].append((id_pres, cost_drug))\n",
    "# print(drug_dict)"
   ]
  },
  {
   "cell_type": "code",
   "execution_count": 65,
   "metadata": {
    "ExecuteTime": {
     "end_time": "2018-07-11T20:47:46.422743Z",
     "start_time": "2018-07-11T20:47:46.348794Z"
    },
    "scrolled": false
   },
   "outputs": [],
   "source": [
    "res = []\n",
    "for name_drug in drug_dict.keys():\n",
    "    id_set = set()\n",
    "    cost_sum = 0\n",
    "    \n",
    "    for id_pres, cost_drug in drug_dict[name_drug]:\n",
    "        id_set.add(id_pres)\n",
    "        cost_sum += float(cost_drug)\n",
    "    res.append((name_drug, len(id_set), int(cost_sum)))\n",
    "\n",
    "# print(res)        "
   ]
  },
  {
   "cell_type": "code",
   "execution_count": 66,
   "metadata": {
    "ExecuteTime": {
     "end_time": "2018-07-11T20:47:46.977652Z",
     "start_time": "2018-07-11T20:47:46.973759Z"
    }
   },
   "outputs": [],
   "source": [
    "res.sort(key = lambda x: x[2], reverse=True)\n",
    "# res"
   ]
  },
  {
   "cell_type": "code",
   "execution_count": 67,
   "metadata": {
    "ExecuteTime": {
     "end_time": "2018-07-11T20:47:47.481124Z",
     "start_time": "2018-07-11T20:47:47.471290Z"
    }
   },
   "outputs": [],
   "source": [
    "with open(\"result.txt\", \"w\") as file:\n",
    "    for line in res:\n",
    "        strs=\",\".join(str(x) for x in line)\n",
    "        file.write(strs + \"\\n\")"
   ]
  },
  {
   "cell_type": "code",
   "execution_count": null,
   "metadata": {},
   "outputs": [],
   "source": []
  }
 ],
 "metadata": {
  "kernelspec": {
   "display_name": "Python 3",
   "language": "python",
   "name": "python3"
  },
  "language_info": {
   "codemirror_mode": {
    "name": "ipython",
    "version": 3
   },
   "file_extension": ".py",
   "mimetype": "text/x-python",
   "name": "python",
   "nbconvert_exporter": "python",
   "pygments_lexer": "ipython3",
   "version": "3.6.4"
  }
 },
 "nbformat": 4,
 "nbformat_minor": 2
}
